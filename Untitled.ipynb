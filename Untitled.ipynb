{
 "cells": [
  {
   "cell_type": "code",
   "execution_count": 156,
   "metadata": {},
   "outputs": [],
   "source": [
    "\n",
    "import numpy as np\n",
    "\n",
    "from models import df, COLORS_by_TYPE\n",
    "df = df.rename(columns={'against_fight': 'against_fighting'})\n",
    "\n",
    "import matplotlib.pyplot as plt\n",
    "\n",
    "SECONDARY_COLORS_by_TYPE = {'fire': 'maroon', 'water': 'aqua', 'normal': 'aquamarine',\n",
    "    'poison': 'purple', 'electric': 'gold', 'ground': 'orange',\n",
    "    'fairy': 'antiquewhite', 'grass': 'lime', 'bug': 'green', 'psychic': 'violet',\n",
    "    'rock': 'chocolate', 'fighting': 'brown', 'ghost': 'purple',\n",
    "    'ice': 'azure', 'dragon': 'coral', 'dark': 'green', 'flying': 'fuchsia', 'steel': 'wheat'}\n",
    "\n",
    "Against = df[['name', 'type1'] + list(df.columns[1:19])]\n",
    "\n",
    "#pokename = \"Swampert\" # to get abstracted out as func def. \n",
    "\n"
   ]
  },
  {
   "cell_type": "code",
   "execution_count": 157,
   "metadata": {},
   "outputs": [
    {
     "data": {
      "text/plain": [
       "<Figure size 432x288 with 0 Axes>"
      ]
     },
     "metadata": {},
     "output_type": "display_data"
    }
   ],
   "source": [
    "def barsk(pokename: str): \n",
    "\n",
    "    poke = Against[Against.name==pokename]\n",
    "    poke_sorted = poke.T[2:].rename(columns=lambda x: 'multipliers').sort_values(by='multipliers', ascending=False)\n",
    "\n",
    "    against_types = Against.columns[2:]\n",
    "\n",
    "    y_pos = np.arange(len(against_types))\n",
    "\n",
    "    b = plt.barh(y_pos, poke_sorted.values.T[0], \n",
    "                 align='center',#\n",
    "                 color=COLORS_by_TYPE[poke.type1.values[0]])\n",
    "\n",
    "    # for i in range(len(against_types)): \n",
    "    #     b[i].set_color(COLORS_by_TYPE[against_types[i][8:]])\n",
    "\n",
    "    plt.yticks(y_pos, [s[8:] for s in poke_sorted.index], color='white')\n",
    "    plt.xticks([0, 0.5, 1, 2, 4], color='white')\n",
    "\n",
    "    plt.xlabel('Multipliers applied to incoming attacks', color='white');\n",
    "\n",
    "    plt.savefig(f\"bar_pngs/{pokename}_bar1.png\", transparent=True)\n",
    "    \n",
    "    plt.clf();\n",
    "    pass\n",
    "\n",
    "PokeNames = df[~df.name.isna()].name.values\n",
    "for na in PokeNames: \n",
    "    barsk(na)\n"
   ]
  },
  {
   "cell_type": "code",
   "execution_count": 148,
   "metadata": {},
   "outputs": [
    {
     "data": {
      "text/plain": [
       "0.0"
      ]
     },
     "execution_count": 148,
     "metadata": {},
     "output_type": "execute_result"
    }
   ],
   "source": [
    "poke_sorted.index\n",
    "\n",
    "poke_sorted.values[0]\n",
    "\n",
    "poke.type1.values[0]\n",
    "\n",
    "[s[8:] for s in poke_sorted.index]\n",
    "\n",
    "poke_sorted.values.T[0]["
   ]
  },
  {
   "cell_type": "code",
   "execution_count": 85,
   "metadata": {},
   "outputs": [
    {
     "data": {
      "text/plain": [
       "'#09E1FF'"
      ]
     },
     "execution_count": 85,
     "metadata": {},
     "output_type": "execute_result"
    }
   ],
   "source": [
    "COLORS_by_TYPE[Against[Against.name==pokename].type1.values[0]]"
   ]
  },
  {
   "cell_type": "code",
   "execution_count": 83,
   "metadata": {},
   "outputs": [
    {
     "data": {
      "text/plain": [
       "'water'"
      ]
     },
     "execution_count": 83,
     "metadata": {},
     "output_type": "execute_result"
    }
   ],
   "source": [
    "Against[Against.name==pokename].type1.values[0]"
   ]
  },
  {
   "cell_type": "code",
   "execution_count": 64,
   "metadata": {},
   "outputs": [
    {
     "data": {
      "text/plain": [
       "['bug',\n",
       " 'dark',\n",
       " 'dragon',\n",
       " 'electric',\n",
       " 'fairy',\n",
       " 'fighting',\n",
       " 'fire',\n",
       " 'flying',\n",
       " 'ghost',\n",
       " 'grass',\n",
       " 'ground',\n",
       " 'ice',\n",
       " 'normal',\n",
       " 'poison',\n",
       " 'psychic',\n",
       " 'rock',\n",
       " 'steel',\n",
       " 'water']"
      ]
     },
     "execution_count": 64,
     "metadata": {},
     "output_type": "execute_result"
    }
   ],
   "source": [
    "[s[8:] for s in against_types]"
   ]
  },
  {
   "cell_type": "code",
   "execution_count": null,
   "metadata": {},
   "outputs": [],
   "source": []
  },
  {
   "cell_type": "code",
   "execution_count": 109,
   "metadata": {},
   "outputs": [
    {
     "data": {
      "text/plain": [
       "array([0.0, 0.5, 0.5, 0.5, 0.5, 1.0, 1.0, 1.0, 1.0, 1.0, 1.0, 1.0, 1.0,\n",
       "       1.0, 1.0, 1.0, 1.0, 4.0], dtype=object)"
      ]
     },
     "execution_count": 109,
     "metadata": {},
     "output_type": "execute_result"
    }
   ],
   "source": [
    "a = Against[Against.name==pokename].values[0][2:]\n",
    "\n",
    "a.sort()\n",
    "a\n"
   ]
  },
  {
   "cell_type": "code",
   "execution_count": null,
   "metadata": {},
   "outputs": [],
   "source": [
    "columns={\"A\": \"a\", \"B\": \"c\"}"
   ]
  },
  {
   "cell_type": "code",
   "execution_count": 19,
   "metadata": {},
   "outputs": [
    {
     "data": {
      "text/plain": [
       "Index(['abilities', 'against_bug', 'against_dark', 'against_dragon',\n",
       "       'against_electric', 'against_fairy', 'against_fighting', 'against_fire',\n",
       "       'against_flying', 'against_ghost', 'against_grass', 'against_ground',\n",
       "       'against_ice', 'against_normal', 'against_poison', 'against_psychic',\n",
       "       'against_rock', 'against_steel', 'against_water', 'attack',\n",
       "       'base_egg_steps', 'base_happiness', 'base_total', 'capture_rate',\n",
       "       'classfication', 'defense', 'experience_growth', 'height_m', 'hp',\n",
       "       'japanese_name', 'name', 'percentage_male', 'pokedex_number',\n",
       "       'sp_attack', 'sp_defense', 'speed', 'type1', 'type2', 'weight_kg',\n",
       "       'generation', 'is_legendary', '#_g6', 'name_g6', 'total_g6', 'hp_g6',\n",
       "       'attack_g6', 'defense_g6', 'speed_g6', 'generation_g6', 'legendary_g6',\n",
       "       'sp_attack_g6', 'sp_defense_g6', 'type1_g6', 'type2_g6'],\n",
       "      dtype='object')"
      ]
     },
     "execution_count": 19,
     "metadata": {},
     "output_type": "execute_result"
    }
   ],
   "source": []
  },
  {
   "cell_type": "code",
   "execution_count": null,
   "metadata": {},
   "outputs": [],
   "source": []
  },
  {
   "cell_type": "code",
   "execution_count": null,
   "metadata": {},
   "outputs": [],
   "source": []
  },
  {
   "cell_type": "code",
   "execution_count": null,
   "metadata": {},
   "outputs": [],
   "source": []
  },
  {
   "cell_type": "code",
   "execution_count": null,
   "metadata": {},
   "outputs": [],
   "source": []
  },
  {
   "cell_type": "code",
   "execution_count": null,
   "metadata": {},
   "outputs": [],
   "source": []
  },
  {
   "cell_type": "code",
   "execution_count": 96,
   "metadata": {},
   "outputs": [
    {
     "data": {
      "image/png": "[encoded data removed]",
      "text/plain": [
       "<Figure size 432x288 with 1 Axes>"
      ]
     },
     "metadata": {
      "needs_background": "light"
     },
     "output_type": "display_data"
    }
   ],
   "source": [
    "\n",
    "objects = ('Python', 'C++', 'Java', 'Perl', 'Scala', 'Lisp')\n",
    "y_pos = np.arange(len(objects))\n",
    "performance = [10,8,6,4,2,1]\n",
    " \n",
    "plt.barh(y_pos, performance, align='center', alpha=0.5)\n",
    "plt.yticks(y_pos, objects)\n",
    "plt.xlabel('Usage')\n",
    "plt.title('Programming language usage')\n",
    " \n",
    "plt.show()"
   ]
  }
 ],
 "metadata": {
  "kernelspec": {
   "display_name": "Python 3",
   "language": "python",
   "name": "python3"
  },
  "language_info": {
   "codemirror_mode": {
    "name": "ipython",
    "version": 3
   },
   "file_extension": ".py",
   "mimetype": "text/x-python",
   "name": "python",
   "nbconvert_exporter": "python",
   "pygments_lexer": "ipython3",
   "version": "3.6.6"
  }
 },
 "nbformat": 4,
 "nbformat_minor": 2
}
