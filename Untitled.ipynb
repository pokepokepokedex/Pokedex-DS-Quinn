{
 "cells": [
  {
   "cell_type": "code",
   "execution_count": 1,
   "metadata": {},
   "outputs": [],
   "source": [
    "\n",
    "import numpy as np\n",
    "\n",
    "from models import df, COLORS_by_TYPE\n",
    "df = df.rename(columns={'against_fight': 'against_fighting'})\n",
    "\n",
    "import matplotlib.pyplot as plt\n",
    "import seaborn as sns\n",
    "\n",
    "SECONDARY_COLORS_by_TYPE = {'fire': 'maroon', 'water': 'aqua', 'normal': 'aquamarine',\n",
    "    'poison': 'purple', 'electric': 'gold', 'ground': 'orange',\n",
    "    'fairy': 'antiquewhite', 'grass': 'lime', 'bug': 'green', 'psychic': 'violet',\n",
    "    'rock': 'chocolate', 'fighting': 'brown', 'ghost': 'purple',\n",
    "    'ice': 'azure', 'dragon': 'coral', 'dark': 'green', 'flying': 'fuchsia', 'steel': 'wheat'}\n"
   ]
  },
  {
   "cell_type": "code",
   "execution_count": null,
   "metadata": {},
   "outputs": [],
   "source": [
    "df"
   ]
  },
  {
   "cell_type": "code",
   "execution_count": null,
   "metadata": {},
   "outputs": [],
   "source": []
  },
  {
   "cell_type": "code",
   "execution_count": null,
   "metadata": {},
   "outputs": [],
   "source": []
  },
  {
   "cell_type": "code",
   "execution_count": null,
   "metadata": {},
   "outputs": [],
   "source": []
  },
  {
   "cell_type": "code",
   "execution_count": null,
   "metadata": {},
   "outputs": [],
   "source": []
  }
 ],
 "metadata": {
  "kernelspec": {
   "display_name": "Python 3",
   "language": "python",
   "name": "python3"
  },
  "language_info": {
   "codemirror_mode": {
    "name": "ipython",
    "version": 3
   },
   "file_extension": ".py",
   "mimetype": "text/x-python",
   "name": "python",
   "nbconvert_exporter": "python",
   "pygments_lexer": "ipython3",
   "version": "3.6.6"
  }
 },
 "nbformat": 4,
 "nbformat_minor": 2
}
