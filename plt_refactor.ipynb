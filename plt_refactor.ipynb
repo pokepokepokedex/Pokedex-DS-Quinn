{
 "cells": [
  {
   "cell_type": "code",
   "execution_count": 49,
   "metadata": {},
   "outputs": [],
   "source": [
    "from gaussians import PokeDescribeNAME\n",
    "\n",
    "from models import df, COLORS_by_TYPE\n",
    "\n",
    "from typing import List\n",
    "import matplotlib.pyplot as plt\n",
    "\n",
    "raichu = PokeDescribeNAME(df, 'Charizard')"
   ]
  },
  {
   "cell_type": "code",
   "execution_count": 39,
   "metadata": {},
   "outputs": [
    {
     "data": {
      "text/html": [
       "<div>\n",
       "<style scoped>\n",
       "    .dataframe tbody tr th:only-of-type {\n",
       "        vertical-align: middle;\n",
       "    }\n",
       "\n",
       "    .dataframe tbody tr th {\n",
       "        vertical-align: top;\n",
       "    }\n",
       "\n",
       "    .dataframe thead th {\n",
       "        text-align: right;\n",
       "    }\n",
       "</style>\n",
       "<table border=\"1\" class=\"dataframe\">\n",
       "  <thead>\n",
       "    <tr style=\"text-align: right;\">\n",
       "      <th></th>\n",
       "      <th>x</th>\n",
       "      <th>hp</th>\n",
       "      <th>attack</th>\n",
       "      <th>defense</th>\n",
       "      <th>sp_attack</th>\n",
       "      <th>sp_defense</th>\n",
       "      <th>speed</th>\n",
       "    </tr>\n",
       "  </thead>\n",
       "  <tbody>\n",
       "    <tr>\n",
       "      <th>0</th>\n",
       "      <td>0.000000</td>\n",
       "      <td>0.000518</td>\n",
       "      <td>0.000662</td>\n",
       "      <td>0.000777</td>\n",
       "      <td>0.001087</td>\n",
       "      <td>0.000570</td>\n",
       "      <td>0.000992</td>\n",
       "    </tr>\n",
       "    <tr>\n",
       "      <th>1</th>\n",
       "      <td>0.180180</td>\n",
       "      <td>0.000527</td>\n",
       "      <td>0.000671</td>\n",
       "      <td>0.000788</td>\n",
       "      <td>0.001100</td>\n",
       "      <td>0.000580</td>\n",
       "      <td>0.001006</td>\n",
       "    </tr>\n",
       "    <tr>\n",
       "      <th>2</th>\n",
       "      <td>0.360360</td>\n",
       "      <td>0.000537</td>\n",
       "      <td>0.000680</td>\n",
       "      <td>0.000798</td>\n",
       "      <td>0.001114</td>\n",
       "      <td>0.000589</td>\n",
       "      <td>0.001021</td>\n",
       "    </tr>\n",
       "    <tr>\n",
       "      <th>3</th>\n",
       "      <td>0.540541</td>\n",
       "      <td>0.000546</td>\n",
       "      <td>0.000689</td>\n",
       "      <td>0.000810</td>\n",
       "      <td>0.001128</td>\n",
       "      <td>0.000599</td>\n",
       "      <td>0.001035</td>\n",
       "    </tr>\n",
       "    <tr>\n",
       "      <th>4</th>\n",
       "      <td>0.720721</td>\n",
       "      <td>0.000556</td>\n",
       "      <td>0.000699</td>\n",
       "      <td>0.000821</td>\n",
       "      <td>0.001141</td>\n",
       "      <td>0.000609</td>\n",
       "      <td>0.001050</td>\n",
       "    </tr>\n",
       "  </tbody>\n",
       "</table>\n",
       "</div>"
      ],
      "text/plain": [
       "          x        hp    attack   defense  sp_attack  sp_defense     speed\n",
       "0  0.000000  0.000518  0.000662  0.000777   0.001087    0.000570  0.000992\n",
       "1  0.180180  0.000527  0.000671  0.000788   0.001100    0.000580  0.001006\n",
       "2  0.360360  0.000537  0.000680  0.000798   0.001114    0.000589  0.001021\n",
       "3  0.540541  0.000546  0.000689  0.000810   0.001128    0.000599  0.001035\n",
       "4  0.720721  0.000556  0.000699  0.000821   0.001141    0.000609  0.001050"
      ]
     },
     "execution_count": 39,
     "metadata": {},
     "output_type": "execute_result"
    }
   ],
   "source": [
    "raichu.bells.head()"
   ]
  },
  {
   "cell_type": "code",
   "execution_count": 40,
   "metadata": {},
   "outputs": [
    {
     "data": {
      "text/plain": [
       "{'hp': 60.0,\n",
       " 'attack': 85.0,\n",
       " 'defense': 50.0,\n",
       " 'sp_attack': 95.0,\n",
       " 'sp_defense': 85.0,\n",
       " 'speed': 110.0}"
      ]
     },
     "execution_count": 40,
     "metadata": {},
     "output_type": "execute_result"
    }
   ],
   "source": [
    "raichu.means"
   ]
  },
  {
   "cell_type": "code",
   "execution_count": 50,
   "metadata": {},
   "outputs": [
    {
     "data": {
      "image/png": "[encoded data removed]",
      "text/plain": [
       "<Figure size 432x288 with 6 Axes>"
      ]
     },
     "metadata": {
      "needs_background": "light"
     },
     "output_type": "display_data"
    }
   ],
   "source": [
    "stats = ['hp', 'attack', 'defense', 'sp_attack', 'sp_defense', 'speed']\n",
    "\n",
    "fig, axes = plt.subplots(nrows=len(stats), ncols=1, sharex=True, constrained_layout=True)\n",
    "#axes.flatten()\n",
    "\n",
    "def bell(sts: List[str]): \n",
    "    for i in range(len(sts)): \n",
    "        c = COLORS_by_TYPE[raichu.typ]\n",
    "        axes[i].set_xlim(raichu.xlim)\n",
    "        axes[i].set_ylim(0, raichu.y_max)\n",
    "        axes[i].axvline(raichu.means[sts[i]], color=c)#, xmin=raichu.xlim[0], xmax=raichu.xlim[1])\n",
    "        axes[i].plot(x=raichu.bells.x, y=raichu.bells[sts[i]], color=c)\n",
    "\n",
    "\n",
    "# for i in range(len(stats)): \n",
    "#     (i)\n",
    "bell(stats)"
   ]
  },
  {
   "cell_type": "code",
   "execution_count": 29,
   "metadata": {},
   "outputs": [
    {
     "data": {
      "text/plain": [
       "[]"
      ]
     },
     "execution_count": 29,
     "metadata": {},
     "output_type": "execute_result"
    },
    {
     "data": {
      "image/png": "[encoded data removed]",
      "text/plain": [
       "<Figure size 432x288 with 1 Axes>"
      ]
     },
     "metadata": {
      "needs_background": "light"
     },
     "output_type": "display_data"
    }
   ],
   "source": [
    "fig = plt.figure()\n",
    "ax = fig.add_subplot(611)\n",
    "\n",
    "ax.plot(x=raichu.bells.x, y=raichu.bells.hp)\n",
    "ax.plot(x=raichu.bells.x, y=raichu.bells.attack)"
   ]
  },
  {
   "cell_type": "code",
   "execution_count": 30,
   "metadata": {},
   "outputs": [
    {
     "data": {
      "image/png": "[encoded data removed]",
      "text/plain": [
       "<Figure size 432x288 with 6 Axes>"
      ]
     },
     "metadata": {
      "needs_background": "light"
     },
     "output_type": "display_data"
    }
   ],
   "source": [
    "fig, ax = plt.subplots(nrows=6, ncols=1)\n",
    "\n",
    "for i in range(6): \n",
    "    ax[i].set_xlim(raichu.xlim)\n",
    "\n",
    "ax[0].plot(x=raichu.bells.x, y=raichu.bells.hp, color='black')\n",
    "ax[1].plot(x=raichu.bells.x, y=raichu.bells.attack, color='black')\n",
    "ax[2].plot(x=raichu.bells.x, y=raichu.bells.defense, color='black')\n",
    "\n",
    "plt.show()"
   ]
  },
  {
   "cell_type": "code",
   "execution_count": 31,
   "metadata": {},
   "outputs": [
    {
     "data": {
      "image/png": "[encoded data removed]",
      "text/plain": [
       "<Figure size 432x288 with 1 Axes>"
      ]
     },
     "metadata": {
      "needs_background": "light"
     },
     "output_type": "display_data"
    }
   ],
   "source": [
    "plt.plot(x=raichu.bells.x, y=raichu.bells.defense, color='black'); "
   ]
  },
  {
   "cell_type": "code",
   "execution_count": 36,
   "metadata": {},
   "outputs": [
    {
     "data": {
      "text/plain": [
       "<matplotlib.axes._subplots.AxesSubplot at 0x7f168e51b908>"
      ]
     },
     "execution_count": 36,
     "metadata": {},
     "output_type": "execute_result"
    },
    {
     "data": {
      "image/png": "[encoded data removed]",
      "text/plain": [
       "<Figure size 432x288 with 1 Axes>"
      ]
     },
     "metadata": {
      "needs_background": "light"
     },
     "output_type": "display_data"
    }
   ],
   "source": [
    "import seaborn as sns\n",
    "\n",
    "sns.lineplot(x=raichu.bells.x, y=raichu.bells.defense, color=COLORS_by_TYPE[raichu.typ])\n",
    "sns.lineplot(x=raichu.bells.x, y=raichu.bells.sp_attack, color=COLORS_by_TYPE[raichu.typ])"
   ]
  }
 ],
 "metadata": {
  "kernelspec": {
   "display_name": "Python 3",
   "language": "python",
   "name": "python3"
  },
  "language_info": {
   "codemirror_mode": {
    "name": "ipython",
    "version": 3
   },
   "file_extension": ".py",
   "mimetype": "text/x-python",
   "name": "python",
   "nbconvert_exporter": "python",
   "pygments_lexer": "ipython3",
   "version": "3.6.6"
  }
 },
 "nbformat": 4,
 "nbformat_minor": 2
}
