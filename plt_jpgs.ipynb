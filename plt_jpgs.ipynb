{
 "cells": [
  {
   "cell_type": "code",
   "execution_count": 13,
   "metadata": {},
   "outputs": [],
   "source": [
    "from gaussians import PokeDescribeNAME\n",
    "\n",
    "from models import df, COLORS_by_TYPE\n",
    "\n",
    "from time import sleep\n",
    "\n",
    "from typing import List\n",
    "import matplotlib.pyplot as plt\n",
    "\n",
    "\n",
    "PokeNames = df[~df.name.isna()].name.values\n",
    "\n",
    "\n",
    "stats = ['hp', 'attack', 'defense', 'sp_attack', 'sp_defense', 'speed']\n",
    "\n",
    "def SHOW(n: str, sts: List[str] = stats): \n",
    "    assert n in PokeNames\n",
    "    raichu = PokeDescribeNAME(df, n)\n",
    "\n",
    "    c = COLORS_by_TYPE[raichu.typ]\n",
    "    \n",
    "    import matplotlib.pyplot as plt\n",
    "\n",
    "    \n",
    "    \n",
    "    fig = plt.figure(1)\n",
    "\n",
    "    \n",
    "    plt.subplot(611)\n",
    "    plt.plot(raichu.bells.x, raichu.bells.hp, color=c)\n",
    "    plt.axvline(raichu.means[sts[0]], color=c)\n",
    "    plt.axis('off')\n",
    "    plt.grid(False)\n",
    "    \n",
    "    plt.subplot(612)\n",
    "    plt.plot(raichu.bells.x, raichu.bells.attack, color=c)\n",
    "    plt.axvline(raichu.means[sts[1]], color=c)\n",
    "    plt.axis('off')\n",
    "    plt.grid(False)\n",
    "    \n",
    "    plt.subplot(613)\n",
    "    plt.plot(raichu.bells.x, raichu.bells.defense, color=c)\n",
    "    plt.axvline(raichu.means[sts[2]], color=c)\n",
    "    plt.axis('off')\n",
    "    plt.grid(False)\n",
    "    \n",
    "    plt.subplot(614)\n",
    "    plt.plot(raichu.bells.x, raichu.bells.sp_attack, color=c)\n",
    "    plt.axvline(raichu.means[sts[3]], color=c)\n",
    "    plt.axis('off')\n",
    "    plt.grid(False)\n",
    "    \n",
    "    plt.subplot(615)\n",
    "    plt.plot(raichu.bells.x, raichu.bells.sp_defense, color=c)\n",
    "    plt.axvline(raichu.means[sts[4]], color=c)\n",
    "    plt.axis('off')\n",
    "    plt.grid(False)\n",
    "    \n",
    "    plt.subplot(616)\n",
    "    plt.plot(raichu.bells.x, raichu.bells.speed, color=c)\n",
    "    plt.axvline(raichu.means[sts[5]], color=c)\n",
    "    plt.axis('off')\n",
    "    plt.grid(False)\n",
    "\n",
    "    plt.savefig(f\"bellcurve_pngs/{n}_gaussian2.png\", transparent=True)\n",
    "    \n",
    "    plt.clf();\n",
    "    \n",
    "    #print(f\"{n} is done! \")\n",
    "    pass\n"
   ]
  },
  {
   "cell_type": "code",
   "execution_count": null,
   "metadata": {},
   "outputs": [],
   "source": [
    "\n",
    "for na in PokeNames: \n",
    "    SHOW(na)\n"
   ]
  },
  {
   "cell_type": "code",
   "execution_count": null,
   "metadata": {},
   "outputs": [],
   "source": []
  },
  {
   "cell_type": "code",
   "execution_count": null,
   "metadata": {},
   "outputs": [],
   "source": []
  },
  {
   "cell_type": "code",
   "execution_count": null,
   "metadata": {},
   "outputs": [],
   "source": []
  },
  {
   "cell_type": "code",
   "execution_count": null,
   "metadata": {},
   "outputs": [],
   "source": []
  },
  {
   "cell_type": "code",
   "execution_count": null,
   "metadata": {},
   "outputs": [],
   "source": []
  },
  {
   "cell_type": "code",
   "execution_count": null,
   "metadata": {},
   "outputs": [],
   "source": []
  }
 ],
 "metadata": {
  "kernelspec": {
   "display_name": "Python 3",
   "language": "python",
   "name": "python3"
  },
  "language_info": {
   "codemirror_mode": {
    "name": "ipython",
    "version": 3
   },
   "file_extension": ".py",
   "mimetype": "text/x-python",
   "name": "python",
   "nbconvert_exporter": "python",
   "pygments_lexer": "ipython3",
   "version": "3.6.6"
  }
 },
 "nbformat": 4,
 "nbformat_minor": 2
}
